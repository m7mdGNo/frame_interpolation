{
 "cells": [
  {
   "cell_type": "code",
   "execution_count": 1,
   "metadata": {},
   "outputs": [],
   "source": [
    "import cv2\n",
    "import glob\n",
    "import numpy as np"
   ]
  },
  {
   "cell_type": "code",
   "execution_count": 3,
   "metadata": {},
   "outputs": [],
   "source": [
    "import torch\n",
    "import config\n",
    "from Generator import Generator\n",
    "from utils import generate_images,generate_image\n",
    "import numpy as np\n",
    "import cv2\n",
    "\n",
    "gen = Generator(input_channels=6,output_channels=3, features=64).to(config.DEVICE)\n",
    "gen.load_state_dict(torch.load('gen.pt'))\n",
    "\n",
    "name = 0\n",
    "for i in list(glob.glob('dataset/train/' +  f'/*.jpg')):\n",
    "    img = cv2.imread(i)\n",
    "    img = cv2.cvtColor(img, cv2.COLOR_BGR2RGB)\n",
    "\n",
    "    frame_n = img[:, :256]\n",
    "    frame_n1 = img[:, 256:512]\n",
    "    frame_n2 = img[:, 512:]\n",
    "\n",
    "    input_img = np.concatenate([frame_n,frame_n2],2)\n",
    "    gen_output = generate_image(gen,input_img)\n",
    "    gen_output = np.concatenate((frame_n1, gen_output), axis=1)\n",
    "    cv2.imwrite(f'dataset/refine/train/{name}.jpg',gen_output)\n",
    "    name += 1\n"
   ]
  },
  {
   "cell_type": "code",
   "execution_count": 12,
   "metadata": {},
   "outputs": [],
   "source": [
    "name = 0\n",
    "for i in list(glob.glob('clibs' +  f'/*.mp4')):\n",
    "    cap = cv2.VideoCapture(i)\n",
    "    num_frames = int(cap.get(cv2.CAP_PROP_FRAME_COUNT))\n",
    "    frames = []\n",
    "    for i in range(num_frames):\n",
    "        ret, frame = cap.read()\n",
    "        frame = cv2.resize(frame,(256,256))\n",
    "        frames.append(frame)\n",
    "    cap.release()\n",
    "    for i in range(num_frames-2):\n",
    "        if i%10==0:\n",
    "            frame_n = frames[i]\n",
    "            frame_n1 = frames[i+1]\n",
    "            frame_n2 = frames[i+2]\n",
    "            comp = np.concatenate([frame_n,frame_n1,frame_n2],1)\n",
    "            cv2.imwrite(f'dataset/train/{name}.jpg',comp)\n",
    "            name += 1\n",
    "        cv2.imshow('comp',comp)\n",
    "        if cv2.waitKey(1) == 27:\n",
    "            break\n",
    "cv2.destroyAllWindows()\n",
    "    \n"
   ]
  },
  {
   "cell_type": "code",
   "execution_count": 3,
   "metadata": {},
   "outputs": [],
   "source": [
    "cap = cv2.VideoCapture('clibs/1.mp4')\n",
    "\n",
    "num_frames = int(cap.get(cv2.CAP_PROP_FRAME_COUNT))"
   ]
  },
  {
   "cell_type": "code",
   "execution_count": 4,
   "metadata": {},
   "outputs": [],
   "source": [
    "frames = []"
   ]
  },
  {
   "cell_type": "code",
   "execution_count": 4,
   "metadata": {},
   "outputs": [],
   "source": [
    "for i in range(num_frames):\n",
    "    ret, frame = cap.read()\n",
    "    frame = cv2.resize(frame,(256,256))\n",
    "    frames.append(frame)\n",
    "    \n",
    "cap.release()"
   ]
  },
  {
   "cell_type": "code",
   "execution_count": null,
   "metadata": {},
   "outputs": [],
   "source": [
    "name = 0"
   ]
  },
  {
   "cell_type": "code",
   "execution_count": 5,
   "metadata": {},
   "outputs": [],
   "source": [
    "\n",
    "for i in range(num_frames-2):\n",
    "    if i%5==0:\n",
    "        frame_n = frames[i]\n",
    "        frame_n1 = frames[i+1]\n",
    "        frame_n2 = frames[i+2]\n",
    "        comp = np.concatenate([frame_n,frame_n1,frame_n2],1)\n",
    "        cv2.imwrite(f'dataset/train/{name}.jpg',comp)\n",
    "        name += 1\n",
    "    cv2.imshow('comp',comp)\n",
    "    if cv2.waitKey(1) == 27:\n",
    "        break\n",
    "cv2.destroyAllWindows()"
   ]
  },
  {
   "cell_type": "code",
   "execution_count": 2,
   "metadata": {},
   "outputs": [],
   "source": [
    "filenames = list(glob.glob('dataset/train' +  f'/*.jpg'))"
   ]
  },
  {
   "cell_type": "code",
   "execution_count": 22,
   "metadata": {},
   "outputs": [],
   "source": [
    "img = cv2.imread(filenames[0])\n",
    "img = cv2.cvtColor(img, cv2.COLOR_BGR2RGB)\n",
    "img = img.astype('float32')/255.0\n",
    "\n",
    "frame_n = img[:, :256]\n",
    "frame_n1 = img[:, 256:512]\n",
    "frame_n2 = img[:, 512:]\n",
    "\n",
    "from torchvision import transforms\n",
    "transform = transforms.Compose([\n",
    "            transforms.ToTensor()\n",
    "        ])\n",
    "\n",
    "frame_n1 = transform(frame_n1)\n",
    "\n",
    "cv2.imshow('frame',np.uint8(frame_n1.cpu().numpy()[0].reshape(256,256,1)*255))\n",
    "cv2.waitKey(0)\n",
    "cv2.destroyAllWindows()"
   ]
  },
  {
   "cell_type": "code",
   "execution_count": null,
   "metadata": {},
   "outputs": [],
   "source": []
  }
 ],
 "metadata": {
  "kernelspec": {
   "display_name": "Python 3",
   "language": "python",
   "name": "python3"
  },
  "language_info": {
   "codemirror_mode": {
    "name": "ipython",
    "version": 3
   },
   "file_extension": ".py",
   "mimetype": "text/x-python",
   "name": "python",
   "nbconvert_exporter": "python",
   "pygments_lexer": "ipython3",
   "version": "3.9.7"
  },
  "orig_nbformat": 4
 },
 "nbformat": 4,
 "nbformat_minor": 2
}
